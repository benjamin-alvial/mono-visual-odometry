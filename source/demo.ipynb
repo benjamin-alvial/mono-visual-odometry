{
 "cells": [
  {
   "cell_type": "markdown",
   "id": "21f470ad-cb65-4ca6-a197-6604e8d7f030",
   "metadata": {},
   "source": [
    "Se recomienda ejecutar directamente desde la terminal."
   ]
  },
  {
   "cell_type": "markdown",
   "id": "1909b5d5-0ea0-4692-a02e-0b563d592049",
   "metadata": {},
   "source": [
    "Correr el código sin segmentación semántica para secuencia 03."
   ]
  },
  {
   "cell_type": "code",
   "execution_count": null,
   "id": "e171a7f3-953b-474c-b625-a6b004369ee7",
   "metadata": {},
   "outputs": [],
   "source": [
    "!python run.py 03 False"
   ]
  },
  {
   "cell_type": "markdown",
   "id": "ff821fca-39ba-427b-9895-209ee017cd39",
   "metadata": {},
   "source": [
    "Correr el código con segmentación semántica para secuencia 03."
   ]
  },
  {
   "cell_type": "code",
   "execution_count": null,
   "id": "d504e791-050d-4a02-8142-35315a22b663",
   "metadata": {},
   "outputs": [],
   "source": [
    "python run.py 03 True"
   ]
  }
 ],
 "metadata": {
  "kernelspec": {
   "display_name": "Python 3 (ipykernel)",
   "language": "python",
   "name": "python3"
  },
  "language_info": {
   "codemirror_mode": {
    "name": "ipython",
    "version": 3
   },
   "file_extension": ".py",
   "mimetype": "text/x-python",
   "name": "python",
   "nbconvert_exporter": "python",
   "pygments_lexer": "ipython3",
   "version": "3.11.9"
  }
 },
 "nbformat": 4,
 "nbformat_minor": 5
}
